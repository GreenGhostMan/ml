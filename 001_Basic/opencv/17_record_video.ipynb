{
 "cells": [
  {
   "cell_type": "code",
   "execution_count": 1,
   "metadata": {},
   "outputs": [],
   "source": [
    "import cv2 as cv\n",
    "\n",
    "def main():\n",
    "    \n",
    "    cap = cv.VideoCapture(0)\n",
    "    \n",
    "    window_name = \"Recorded Video\"\n",
    "    cv.namedWindow(window_name)\n",
    "    \n",
    "    filename = \"output.avi\"\n",
    "    codec = cv.VideoWriter_fourcc('X','V','I','D') #WMV2\n",
    "    frame_rate = 30\n",
    "    resolution = (640,480)\n",
    "    \n",
    "    videoFileOutput = cv.VideoWriter(filename,codec,frame_rate,resolution)    \n",
    "    \n",
    "    if cap.isOpened():\n",
    "        ret,frame = cap.read()\n",
    "    else:\n",
    "        ret = False\n",
    "        \n",
    "    while(ret):\n",
    "        ret,frame = cap.read()\n",
    "        \n",
    "        videoFileOutput.write(frame)\n",
    "        \n",
    "        cv.imshow(window_name,frame)        \n",
    "        \n",
    "        k = cv.waitKey(1)\n",
    "        if k == 27:\n",
    "            break\n",
    "            \n",
    "    cv.destroyAllWindows()\n",
    "    videoFileOutput.release()\n",
    "    cap.release()\n",
    "\n",
    "\n",
    "\n",
    "if __name__ == \"__main__\":\n",
    "    main()"
   ]
  },
  {
   "cell_type": "code",
   "execution_count": null,
   "metadata": {},
   "outputs": [],
   "source": []
  },
  {
   "cell_type": "code",
   "execution_count": null,
   "metadata": {},
   "outputs": [],
   "source": []
  },
  {
   "cell_type": "code",
   "execution_count": null,
   "metadata": {},
   "outputs": [],
   "source": []
  }
 ],
 "metadata": {
  "kernelspec": {
   "display_name": "Python 3",
   "language": "python",
   "name": "python3"
  },
  "language_info": {
   "codemirror_mode": {
    "name": "ipython",
    "version": 3
   },
   "file_extension": ".py",
   "mimetype": "text/x-python",
   "name": "python",
   "nbconvert_exporter": "python",
   "pygments_lexer": "ipython3",
   "version": "3.7.4"
  }
 },
 "nbformat": 4,
 "nbformat_minor": 2
}
