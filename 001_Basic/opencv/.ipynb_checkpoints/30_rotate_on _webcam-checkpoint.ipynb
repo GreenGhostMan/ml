{
 "cells": [
  {
   "cell_type": "code",
   "execution_count": 2,
   "metadata": {},
   "outputs": [],
   "source": [
    "import cv2 as cv\n",
    "import numpy as np\n",
    "import matplotlib.pyplot as plt\n",
    "import time\n",
    "\n",
    "def main():\n",
    "    cap = cv.VideoCapture(0)\n",
    "    \n",
    "    name = 'Rotate on Camera'\n",
    "    cv.namedWindow(name)\n",
    "    \n",
    "    if cap.isOpened():\n",
    "        ret,img = cap.read()\n",
    "    else:\n",
    "        ret = false\n",
    "    row,column,ch = img.shape\n",
    "    \n",
    "    angle = 0\n",
    "    scale = 1\n",
    "    \n",
    "    while True:\n",
    "        ret,img = cap.read()\n",
    "        \n",
    "        if angle ==360:\n",
    "            angle = 0\n",
    "        \n",
    "        R = cv.getRotationMatrix2D( (0,200), angle, scale)\n",
    "        \n",
    "        output = cv.warpAffine(img, R, (column,row))\n",
    "\n",
    "        cv.imshow(name,output)\n",
    "      \n",
    "        time.sleep(0.01)\n",
    "        angle = angle +1 \n",
    "        \n",
    "        k = cv.waitKey(1)\n",
    "        if k==27:\n",
    "            break\n",
    "\n",
    "        \n",
    "    cv.destroyAllWindows()\n",
    " \n",
    "\n",
    "\n",
    "if __name__ == \"__main__\":\n",
    "    main()"
   ]
  },
  {
   "cell_type": "code",
   "execution_count": null,
   "metadata": {},
   "outputs": [],
   "source": []
  },
  {
   "cell_type": "code",
   "execution_count": null,
   "metadata": {},
   "outputs": [],
   "source": []
  },
  {
   "cell_type": "code",
   "execution_count": null,
   "metadata": {},
   "outputs": [],
   "source": []
  },
  {
   "cell_type": "code",
   "execution_count": null,
   "metadata": {},
   "outputs": [],
   "source": []
  },
  {
   "cell_type": "code",
   "execution_count": null,
   "metadata": {},
   "outputs": [],
   "source": []
  },
  {
   "cell_type": "code",
   "execution_count": null,
   "metadata": {},
   "outputs": [],
   "source": []
  },
  {
   "cell_type": "code",
   "execution_count": null,
   "metadata": {},
   "outputs": [],
   "source": []
  },
  {
   "cell_type": "code",
   "execution_count": null,
   "metadata": {},
   "outputs": [],
   "source": []
  },
  {
   "cell_type": "code",
   "execution_count": null,
   "metadata": {},
   "outputs": [],
   "source": []
  },
  {
   "cell_type": "code",
   "execution_count": null,
   "metadata": {},
   "outputs": [],
   "source": []
  },
  {
   "cell_type": "code",
   "execution_count": null,
   "metadata": {},
   "outputs": [],
   "source": []
  },
  {
   "cell_type": "code",
   "execution_count": null,
   "metadata": {},
   "outputs": [],
   "source": []
  },
  {
   "cell_type": "code",
   "execution_count": null,
   "metadata": {},
   "outputs": [],
   "source": []
  }
 ],
 "metadata": {
  "kernelspec": {
   "display_name": "Python 3",
   "language": "python",
   "name": "python3"
  },
  "language_info": {
   "codemirror_mode": {
    "name": "ipython",
    "version": 3
   },
   "file_extension": ".py",
   "mimetype": "text/x-python",
   "name": "python",
   "nbconvert_exporter": "python",
   "pygments_lexer": "ipython3",
   "version": "3.7.4"
  }
 },
 "nbformat": 4,
 "nbformat_minor": 2
}
