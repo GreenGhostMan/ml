{
 "cells": [
  {
   "cell_type": "code",
   "execution_count": 2,
   "metadata": {},
   "outputs": [
    {
     "data": {
      "image/png": "[encoded data removed]",
      "text/plain": [
       "<Figure size 432x288 with 6 Axes>"
      ]
     },
     "metadata": {},
     "output_type": "display_data"
    }
   ],
   "source": [
    "import cv2 as cv\n",
    "import matplotlib.pyplot as plt\n",
    "import numpy as np\n",
    "\n",
    "def main():\n",
    "    img = cv.imread('images/gray21.512.tiff',1)\n",
    "    \n",
    "    th = 127\n",
    "    max_val = 255\n",
    "    \n",
    "    ret,out1 = cv.threshold(img,th,max_val,cv.THRESH_BINARY)\n",
    "    ret,out2 = cv.threshold(img,th,max_val,cv.THRESH_BINARY_INV)\n",
    "    ret,out3 = cv.threshold(img,th,max_val,cv.THRESH_TOZERO)\n",
    "    ret,out4 = cv.threshold(img,th,max_val,cv.THRESH_TOZERO_INV)\n",
    "    ret,out5 = cv.threshold(img,th,max_val,cv.THRESH_TRUNC)\n",
    "    \n",
    "    images = [img,out1,out2,out3,out4,out5]\n",
    "    titles = ['Original','Binary','Bin_inv','ToZero','ToZeroInv','Trunc']\n",
    "    \n",
    "    for i in range(len(images)):      \n",
    "        plt.subplot(2,3,i+1)\n",
    "        plt.imshow(images[i])\n",
    "        plt.xticks([])\n",
    "        plt.yticks([])\n",
    "        plt.title(titles[i])\n",
    "    plt.show()\n",
    "\n",
    "if __name__ == \"__main__\":\n",
    "    main()"
   ]
  },
  {
   "cell_type": "code",
   "execution_count": null,
   "metadata": {},
   "outputs": [],
   "source": []
  },
  {
   "cell_type": "code",
   "execution_count": null,
   "metadata": {},
   "outputs": [],
   "source": []
  }
 ],
 "metadata": {
  "kernelspec": {
   "display_name": "Python 3",
   "language": "python",
   "name": "python3"
  },
  "language_info": {
   "codemirror_mode": {
    "name": "ipython",
    "version": 3
   },
   "file_extension": ".py",
   "mimetype": "text/x-python",
   "name": "python",
   "nbconvert_exporter": "python",
   "pygments_lexer": "ipython3",
   "version": "3.7.4"
  }
 },
 "nbformat": 4,
 "nbformat_minor": 2
}
