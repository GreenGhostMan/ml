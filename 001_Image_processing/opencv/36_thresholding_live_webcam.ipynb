{
 "cells": [
  {
   "cell_type": "code",
   "execution_count": 1,
   "metadata": {},
   "outputs": [],
   "source": [
    "import cv2 as cv\n",
    "\n",
    "def main():\n",
    "    cap = cv.VideoCapture(0)\n",
    "    windowName = ['bin','bin_inv','toZero','toZeroInv','turnc']\n",
    "    \n",
    "    if cap.isOpened():\n",
    "        ret,frame = cap.read()\n",
    "    else:\n",
    "        ret = False\n",
    "        \n",
    "    while(ret):\n",
    "        ret,frame = cap.read()\n",
    "        \n",
    "        th = 127\n",
    "        max_val = 255\n",
    "        \n",
    "        ret,o1 = cv.threshold(frame,th,max_val,cv.THRESH_BINARY)\n",
    "        ret,o2 = cv.threshold(frame,th,max_val,cv.THRESH_BINARY_INV)\n",
    "        ret,o3 = cv.threshold(frame,th,max_val,cv.THRESH_TOZERO)\n",
    "        ret,o4 = cv.threshold(frame,th,max_val,cv.THRESH_TOZERO_INV)\n",
    "        ret,o5 = cv.threshold(frame,th,max_val,cv.THRESH_TRUNC)\n",
    "        \n",
    "        cv.imshow(windowName[0],o1)\n",
    "        cv.imshow(windowName[1],o2)\n",
    "        cv.imshow(windowName[2],o3)\n",
    "        cv.imshow(windowName[3],o4)\n",
    "        cv.imshow(windowName[4],o5)\n",
    "        \n",
    "        if cv.waitKey(1) == 27:\n",
    "            break\n",
    "    cv.destroyAllWindows()\n",
    "    cap.release()\n",
    "\n",
    "if __name__ == \"__main__\":\n",
    "    main()"
   ]
  },
  {
   "cell_type": "code",
   "execution_count": null,
   "metadata": {},
   "outputs": [],
   "source": []
  },
  {
   "cell_type": "code",
   "execution_count": null,
   "metadata": {},
   "outputs": [],
   "source": []
  },
  {
   "cell_type": "code",
   "execution_count": null,
   "metadata": {},
   "outputs": [],
   "source": []
  },
  {
   "cell_type": "code",
   "execution_count": null,
   "metadata": {},
   "outputs": [],
   "source": []
  }
 ],
 "metadata": {
  "kernelspec": {
   "display_name": "Python 3",
   "language": "python",
   "name": "python3"
  },
  "language_info": {
   "codemirror_mode": {
    "name": "ipython",
    "version": 3
   },
   "file_extension": ".py",
   "mimetype": "text/x-python",
   "name": "python",
   "nbconvert_exporter": "python",
   "pygments_lexer": "ipython3",
   "version": "3.7.4"
  }
 },
 "nbformat": 4,
 "nbformat_minor": 2
}
