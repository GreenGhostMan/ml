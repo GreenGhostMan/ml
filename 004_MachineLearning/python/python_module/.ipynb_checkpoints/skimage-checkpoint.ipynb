{
 "cells": [
  {
   "cell_type": "code",
   "execution_count": 2,
   "metadata": {},
   "outputs": [],
   "source": [
    "from skimage import io\n",
    "from matplotlib import pyplot as plt\n",
    "\n",
    "img = io.read(\"../images/djs.jpg\", as_gray=True)\n",
    "\n",
    "plt.imshow(img)"
   ]
  },
  {
   "cell_type": "markdown",
   "metadata": {},
   "source": [
    "fdsfds"
   ]
  },
  {
   "cell_type": "code",
   "execution_count": null,
   "metadata": {},
   "outputs": [],
   "source": [
    "from skimage import io\n",
    "from matplotlib import pyplot as plt\n",
    "\n",
    "img = io.read(\"../images/djs.jpg\", as_gray=True)\n",
    "\n",
    "from skimage.transform import rescale, resize, downscale_local_mean\n",
    "\n",
    "rescaled_img = rescale(img, 1.0/4.0, anti_aliasing=True)\n",
    "resized_img  = resize(img, (200,200))\n",
    "downscaled_img = downscale_local_mean(img, (4,3))\n",
    "plt.imshow(rescaled_img)\n",
    "plt.imshow(resized_img)\n",
    "plt.imshow(downscaled_img)"
   ]
  },
  {
   "cell_type": "markdown",
   "metadata": {},
   "source": []
  },
  {
   "cell_type": "code",
   "execution_count": null,
   "metadata": {},
   "outputs": [],
   "source": [
    "# deconvolution\n",
    "from skimage import io\n",
    "from matplotlib import pyplot as plt\n",
    "\n",
    "img = io.imread(\"../images/\", as_gray=True)\n",
    "\n",
    "from skimage import restoration\n",
    "import numpy as np\n",
    "psf = np.ones((3,3))/9\n",
    "\n",
    "deconvolved,_ = restoration.unsupervised_wlener(img, psf)\n",
    "plt.imsave(\"./deconvolved.jpg\", deconvolved, cmap='gray')"
   ]
  },
  {
   "cell_type": "markdown",
   "metadata": {},
   "source": []
  },
  {
   "cell_type": "code",
   "execution_count": null,
   "metadata": {},
   "outputs": [],
   "source": [
    "# edge detect\n",
    "from skimage import io\n",
    "from matplotlib import pyplot as plt\n",
    "\n",
    "img = io.imread(\"../images/test_image_cropped.jpg\", as_gray=True)\n",
    "\n",
    "from skimage.filters import roberts, sobel, scharr, prewitt\n",
    "\n",
    "edge_roboerts = roberts(img)\n",
    "plt.imshow(img, cmap='gray')"
   ]
  },
  {
   "cell_type": "markdown",
   "metadata": {},
   "source": []
  },
  {
   "cell_type": "code",
   "execution_count": null,
   "metadata": {},
   "outputs": [],
   "source": [
    "# edge detect\n",
    "from skimage import io\n",
    "from matplotlib import pyplot as plt\n",
    "\n",
    "img = io.imread(\"../images/test_image_cropped.jpg\", as_gray=True)\n",
    "\n",
    "from skimage.filters import roberts, sobel, scharr, prewitt\n",
    "\n",
    "edge_roboerts = roberts(img)\n",
    "edge_sobel = sobel(img)\n",
    "edge_scharr = scharr(img)\n",
    "edge_prewitt = prewitt(img)\n",
    "\n",
    "fig, axes = plt.subplots(nrows=2, ncols=2, sharex=True, sharey=True, figsize=(8,8))\n",
    "ax = axes.ravel()\n",
    "\n",
    "ax[0].imshow(img, cmap=plt.cm.gray)\n",
    "ax[0].set_title('Original image')\n",
    "\n",
    "ax[1].imshow(edge_sobel, cmap=plt.cm.gray)\n",
    "ax[1].set_title('Sobel')\n",
    "\n",
    "ax[2].imshow(edge_scharr, cmap=plt.cm.gray)\n",
    "ax[2].set_title('scharr')\n",
    "\n",
    "ax[3].imshow(edge_prewitt, cmap=plt.cm.gray)\n",
    "ax[3].set_title('prewitt')\n",
    "\n",
    "for a in ax:\n",
    "    a.axis('off')\n",
    "    \n",
    "plt.tight_layout()\n",
    "plt.show()"
   ]
  },
  {
   "cell_type": "markdown",
   "metadata": {},
   "source": []
  },
  {
   "cell_type": "code",
   "execution_count": null,
   "metadata": {},
   "outputs": [],
   "source": [
    "# canny\n",
    "from skimage.feature import canny\n",
    "edge_canny = canny(img, sigma = 7)\n",
    "plt.imshow(edge_canny)"
   ]
  },
  {
   "cell_type": "markdown",
   "metadata": {},
   "source": []
  },
  {
   "cell_type": "code",
   "execution_count": null,
   "metadata": {},
   "outputs": [],
   "source": [
    "#entropy threshold\n",
    "import matplotlib.pyplot as plt\n",
    "from skimage import io, restoration\n",
    "from skimage.filters.rank import entropy\n",
    "from skimage.morphology import disk\n",
    "\n",
    "img = io.read(\"../images/klj.jpg\")\n",
    "entropy_img = entropy(img, disk(3))\n",
    "plt.imshow(entropy_img, cmap='gray')\n",
    "\n",
    "from skimage.filters import try_all_threshold\n",
    "from skimage.filters import threshold_otsu\n",
    "thresh = threshold_otsu(entropy_img)\n",
    "\n",
    "binary = entropy_img <= thresh\n",
    "plt.imshow(binary, cmap='gray')"
   ]
  },
  {
   "cell_type": "markdown",
   "metadata": {},
   "source": []
  },
  {
   "cell_type": "code",
   "execution_count": null,
   "metadata": {},
   "outputs": [],
   "source": [
    "\n"
   ]
  },
  {
   "cell_type": "code",
   "execution_count": null,
   "metadata": {},
   "outputs": [],
   "source": []
  },
  {
   "cell_type": "code",
   "execution_count": null,
   "metadata": {},
   "outputs": [],
   "source": []
  },
  {
   "cell_type": "code",
   "execution_count": null,
   "metadata": {},
   "outputs": [],
   "source": []
  },
  {
   "cell_type": "code",
   "execution_count": null,
   "metadata": {},
   "outputs": [],
   "source": []
  },
  {
   "cell_type": "code",
   "execution_count": null,
   "metadata": {},
   "outputs": [],
   "source": []
  },
  {
   "cell_type": "code",
   "execution_count": null,
   "metadata": {},
   "outputs": [],
   "source": []
  },
  {
   "cell_type": "code",
   "execution_count": null,
   "metadata": {},
   "outputs": [],
   "source": []
  },
  {
   "cell_type": "code",
   "execution_count": null,
   "metadata": {},
   "outputs": [],
   "source": []
  },
  {
   "cell_type": "code",
   "execution_count": null,
   "metadata": {},
   "outputs": [],
   "source": []
  }
 ],
 "metadata": {
  "kernelspec": {
   "display_name": "Python 3",
   "language": "python",
   "name": "python3"
  },
  "language_info": {
   "codemirror_mode": {
    "name": "ipython",
    "version": 3
   },
   "file_extension": ".py",
   "mimetype": "text/x-python",
   "name": "python",
   "nbconvert_exporter": "python",
   "pygments_lexer": "ipython3",
   "version": "3.8.3"
  }
 },
 "nbformat": 4,
 "nbformat_minor": 4
}
