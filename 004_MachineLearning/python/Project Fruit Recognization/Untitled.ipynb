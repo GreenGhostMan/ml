{
 "cells": [
  {
   "cell_type": "code",
   "execution_count": null,
   "metadata": {},
   "outputs": [],
   "source": [
    "def preProcessing(arr):\n",
    "    arr_pre = []\n",
    "    for i in range( np.shape(arr)[0] ):\n",
    "        img = cv2.cvtColor(arr[i], cv2.COLOR_BGR2LAB)\n",
    "        img = resize(img,(72,72),anti_aliasing=True)\n",
    "        arr_pre.append(img)\n",
    "    return arr_pre\n",
    "\n",
    "def featureExtractHOG(img):\n",
    "    ftr,_ = hog(img, orientations=8, pixels_per_cell=(16,16),cell_per_block=(1,1), visualize=True, multichannel=False)\n",
    "    return ftr\n",
    "\n",
    "def featureExtraction(arr):\n",
    "    arr_feature = []\n",
    "    for i in range(np.shape(arr)[0]):\n",
    "        arr_feature.append( featureExtractHOG(arr[i]) )\n",
    "    return arr_feature\n",
    "\n",
    "total_x = np.concatenate((apple,banana,lemon,lime,orange,peach,pear))\n",
    "total_y = np.concatenate((label_apple,label_banana,label_lemon,label_lime,label_orange,label_peach,label_pear))\n",
    "\n",
    "x_train, x_test, y_train, y_test = train_test_split(total_x,total_y,test_size=0.33, random_state=42)\n",
    "\n",
    "print(\"training amount :\",x_train.shape[0])\n",
    "print(\"testing amount  :\",x_test.shape[0])\n",
    "    \n",
    "x_train_pre = preProcessing(x_train)\n",
    "x_test_pre  = preProcessing(x_test)\n",
    "\n",
    "print(\"finished preprocessing!\")\n",
    "\n",
    "x_train_feature = featureExtraction(x_train_pre)\n",
    "x_test_feature  = featureExtraction(x_test_pre)\n",
    "\n",
    "print(\"finished feature extraction!\")"
   ]
  }
 ],
 "metadata": {
  "kernelspec": {
   "display_name": "Python 3",
   "language": "python",
   "name": "python3"
  },
  "language_info": {
   "codemirror_mode": {
    "name": "ipython",
    "version": 3
   },
   "file_extension": ".py",
   "mimetype": "text/x-python",
   "name": "python",
   "nbconvert_exporter": "python",
   "pygments_lexer": "ipython3",
   "version": "3.8.3"
  }
 },
 "nbformat": 4,
 "nbformat_minor": 4
}
