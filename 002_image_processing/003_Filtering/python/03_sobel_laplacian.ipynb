{
 "cells": [
  {
   "cell_type": "markdown",
   "metadata": {},
   "source": [
    "Canny\n",
    "- Gaussian kernel 5x5 is applied to image for filtering out any noise\n",
    "- Intensity gradient is calculated using L1 or L2 norm\n",
    "- Non-maximum supression is applied to outptu of step 2\n",
    "- Using the gradient thresholds the final edge set is calculated\n",
    "        - any pixel less than gradient 1 is excluded\n",
    "        - any pixel more than gradient 2 is included\n",
    "        - for any pixel in between two gradients only the pixels directly connected to pixels in set b are included in the fina image set"
   ]
  },
  {
   "cell_type": "code",
   "execution_count": 1,
   "metadata": {},
   "outputs": [],
   "source": [
    "import cv2 as cv\n",
    "import matplotlib.pyplot as plt\n",
    "import numpy as np\n",
    "def main():\n",
    "    img = cv.imread('dave.jpg',1)\n",
    "    #img = cv.cvtColor(img,cv.COLOR_BGR2RGB)    \n",
    "  \n",
    "    sobelx = cv.Sobel(img,-1,1,0,ksize=5)\n",
    "    sobely = cv.Sobel(img,-1,0,1,ksize=5)\n",
    "    \n",
    "    laplacian = cv.Laplacian(img,-1)\n",
    "    sharpening  = np.array( ( [0,-1,0], [-1,5,-1], [0,-1,0] ) ,np.float32)\n",
    "    sharp= cv.filter2D(img,-1,sharpening)\n",
    "    \n",
    "    titles = ['original','sobelX','sobelY','laplacian','sharpen']\n",
    "    images = [img,sobelx,sobely,laplacian,sharp]\n",
    "    \n",
    "    while True:\n",
    "        cv.imshow('original',img)\n",
    "        cv.imshow('sobel x',sobelx)\n",
    "        cv.imshow('sobel y',sobely)\n",
    "        cv.imshow('laplacian',laplacian)\n",
    "        cv.imshow('sharpen',sharp)\n",
    "        \n",
    "        k = cv.waitKey(10)\n",
    "        if k == 27:\n",
    "            break\n",
    "    cv.destroyAllWindows()\n",
    "    \n",
    "    \n",
    "if __name__ == \"__main__\":\n",
    "    main()\n",
    "    \n",
    "    \n"
   ]
  },
  {
   "cell_type": "code",
   "execution_count": null,
   "metadata": {},
   "outputs": [],
   "source": []
  },
  {
   "cell_type": "code",
   "execution_count": null,
   "metadata": {},
   "outputs": [],
   "source": []
  },
  {
   "cell_type": "code",
   "execution_count": null,
   "metadata": {},
   "outputs": [],
   "source": []
  },
  {
   "cell_type": "code",
   "execution_count": null,
   "metadata": {},
   "outputs": [],
   "source": []
  },
  {
   "cell_type": "code",
   "execution_count": null,
   "metadata": {},
   "outputs": [],
   "source": []
  },
  {
   "cell_type": "code",
   "execution_count": null,
   "metadata": {},
   "outputs": [],
   "source": []
  },
  {
   "cell_type": "code",
   "execution_count": null,
   "metadata": {},
   "outputs": [],
   "source": []
  },
  {
   "cell_type": "code",
   "execution_count": null,
   "metadata": {},
   "outputs": [],
   "source": []
  },
  {
   "cell_type": "code",
   "execution_count": null,
   "metadata": {},
   "outputs": [],
   "source": []
  },
  {
   "cell_type": "code",
   "execution_count": null,
   "metadata": {},
   "outputs": [],
   "source": []
  },
  {
   "cell_type": "code",
   "execution_count": null,
   "metadata": {},
   "outputs": [],
   "source": []
  },
  {
   "cell_type": "code",
   "execution_count": null,
   "metadata": {},
   "outputs": [],
   "source": []
  }
 ],
 "metadata": {
  "kernelspec": {
   "display_name": "Python 3",
   "language": "python",
   "name": "python3"
  },
  "language_info": {
   "codemirror_mode": {
    "name": "ipython",
    "version": 3
   },
   "file_extension": ".py",
   "mimetype": "text/x-python",
   "name": "python",
   "nbconvert_exporter": "python",
   "pygments_lexer": "ipython3",
   "version": "3.7.4"
  }
 },
 "nbformat": 4,
 "nbformat_minor": 2
}
