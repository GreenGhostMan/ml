{
 "cells": [
  {
   "cell_type": "markdown",
   "metadata": {},
   "source": [
    "# max rgb filter\n",
    "(b,g,r)\n",
    "(23,98,234) ==> (0,0,234)\n",
    "\n",
    "(b,g,r) = cv2.split(img)\n",
    "M = np.maximum(np.maximum(R,G),B)\n",
    "R[R<M] = 0\n",
    "G[G<M] = 0\n",
    "B[B<M] = 0\n",
    "\n",
    "frame = cv.merge((B,G,R))\n"
   ]
  },
  {
   "cell_type": "code",
   "execution_count": 1,
   "metadata": {},
   "outputs": [],
   "source": [
    "import cv2 as cv\n",
    "import numpy as np\n",
    "\n",
    "def main():\n",
    "    w = 800\n",
    "    h = 600\n",
    "    \n",
    "    cap = cv.VideoCapture(0)\n",
    "    \n",
    "    cap.set(3,w)\n",
    "    cap.set(4,h)    \n",
    "  \n",
    "    if cap.isOpened():\n",
    "        ret, frame = cap.read()\n",
    "    else:\n",
    "        ret = False\n",
    "        \n",
    "    while ret:\n",
    "        ret, frame = cap.read()\n",
    "        (b,g,r) = cv.split(frame)\n",
    "        \n",
    "        M = np.maximum(np.maximum(b,g),r)\n",
    "        b[b<M] = 0\n",
    "        g[g<M] = 0\n",
    "        r[r<M] = 0\n",
    "        \n",
    "        out = cv.merge((b,g,r))\n",
    "        \n",
    "        cv.imshow('Original', frame)\n",
    "        cv.imshow('max rgb filter', out)\n",
    "        \n",
    "        \n",
    "        if cv.waitKey(1)==27:\n",
    "            break\n",
    "            \n",
    "       \n",
    "    cv.destroyAllWindows()\n",
    "    cap.release()\n",
    "        \n",
    "        \n",
    "        \n",
    "if __name__ == \"__main__\":\n",
    "    main()"
   ]
  },
  {
   "cell_type": "code",
   "execution_count": null,
   "metadata": {},
   "outputs": [],
   "source": []
  },
  {
   "cell_type": "code",
   "execution_count": null,
   "metadata": {},
   "outputs": [],
   "source": []
  }
 ],
 "metadata": {
  "kernelspec": {
   "display_name": "Python 3",
   "language": "python",
   "name": "python3"
  },
  "language_info": {
   "codemirror_mode": {
    "name": "ipython",
    "version": 3
   },
   "file_extension": ".py",
   "mimetype": "text/x-python",
   "name": "python",
   "nbconvert_exporter": "python",
   "pygments_lexer": "ipython3",
   "version": "3.7.4"
  }
 },
 "nbformat": 4,
 "nbformat_minor": 2
}
