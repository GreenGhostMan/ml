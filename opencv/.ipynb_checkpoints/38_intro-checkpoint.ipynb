{
 "cells": [
  {
   "cell_type": "markdown",
   "metadata": {},
   "source": [
    "Image processing မှာ kernel, convolution matrix ဒါမှမဟုတ် mask တို့ဆိုတာ (3x3) , (4x4) တို့လို matrix အသေးစားလေးတွေပါပဲ။ အဲ့ကောင်တွေကို blur, sharpen, emboss, edge detect တို့လုပ်ရာမှာသုံးပါတယ်။ အောက်ကပုံမှာ matrix များနဲ့ ပြောင်းလည်းသွားတဲ့ ပုံများကိုလေ့လာကြည့်ပါ။"
   ]
  },
  {
   "cell_type": "code",
   "execution_count": null,
   "metadata": {},
   "outputs": [],
   "source": [
    "import cv2 as cv\n",
    "\n",
    "def main():\n",
    "    img = cv.imread('final.png')\n",
    "    \n",
    "    cv.imshow('Wiki',img)\n",
    "    \n",
    "    if cv.waitKey(0) == 27:\n",
    "        cv.destroyAllWindows()\n",
    "        \n",
    "if __name__ == \"__main__\":\n",
    "    main()"
   ]
  },
  {
   "cell_type": "code",
   "execution_count": null,
   "metadata": {},
   "outputs": [],
   "source": []
  },
  {
   "cell_type": "code",
   "execution_count": null,
   "metadata": {},
   "outputs": [],
   "source": []
  },
  {
   "cell_type": "code",
   "execution_count": null,
   "metadata": {},
   "outputs": [],
   "source": []
  },
  {
   "cell_type": "code",
   "execution_count": null,
   "metadata": {},
   "outputs": [],
   "source": []
  },
  {
   "cell_type": "code",
   "execution_count": null,
   "metadata": {},
   "outputs": [],
   "source": []
  }
 ],
 "metadata": {
  "kernelspec": {
   "display_name": "Python 3",
   "language": "python",
   "name": "python3"
  },
  "language_info": {
   "codemirror_mode": {
    "name": "ipython",
    "version": 3
   },
   "file_extension": ".py",
   "mimetype": "text/x-python",
   "name": "python",
   "nbconvert_exporter": "python",
   "pygments_lexer": "ipython3",
   "version": "3.7.4"
  }
 },
 "nbformat": 4,
 "nbformat_minor": 2
}
