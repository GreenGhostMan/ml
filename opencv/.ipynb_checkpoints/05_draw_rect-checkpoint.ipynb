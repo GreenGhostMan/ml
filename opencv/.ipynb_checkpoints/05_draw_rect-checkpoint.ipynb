{
 "cells": [
  {
   "cell_type": "code",
   "execution_count": 2,
   "metadata": {},
   "outputs": [
    {
     "name": "stdout",
     "output_type": "stream",
     "text": [
      "[[ 10  20]\n",
      " [ 30  67]\n",
      " [ 45  97]\n",
      " [ 90 100]\n",
      " [200 350]\n",
      " [ 67  88]\n",
      " [ 80  90]\n",
      " [250  40]\n",
      " [ 24 300]\n",
      " [ 99  55]]\n",
      "[[[ 10  20]]\n",
      "\n",
      " [[ 30  67]]\n",
      "\n",
      " [[ 45  97]]\n",
      "\n",
      " [[ 90 100]]\n",
      "\n",
      " [[200 350]]\n",
      "\n",
      " [[ 67  88]]\n",
      "\n",
      " [[ 80  90]]\n",
      "\n",
      " [[250  40]]\n",
      "\n",
      " [[ 24 300]]\n",
      "\n",
      " [[ 99  55]]]\n"
     ]
    }
   ],
   "source": [
    "import cv2 as cv\n",
    "import numpy as np\n",
    "\n",
    "def main():\n",
    "    img = np.zeros((512,512,3),np.uint8)  \n",
    "    \n",
    "    \n",
    "    cv.rectangle(img,(40,60),(80,100),(0,255,0),2)\n",
    "    \n",
    "    \n",
    "    cv.circle(img,(150,150),10,(0,0,255),-1)\n",
    "    \n",
    "    cv.ellipse(img,(200,200),(50,20),0,0,360,(250,0,0),-1)\n",
    "    \n",
    "    points = np.array([ [10,20],[30,67],[45,97],[90,100],[200,350],[67,88],[80,90],[250,40],[24,300],[99,55] ], np.int32)\n",
    "    print(points)\n",
    "    points = points.reshape( (-1,1,2) )\n",
    "    print(points)\n",
    "    \n",
    "    cv.polylines(img,[points],True,(0,255,0))\n",
    "    \n",
    "    text = 'ROM Robotics'\n",
    "    cv.putText(img,text,(100,400),cv.FONT_HERSHEY_SIMPLEX,1.2,(255,255,0))\n",
    "    \n",
    "    cv.imshow('Black', img)\n",
    "    cv.waitKey(0)\n",
    "    cv.destroyAllWindows()\n",
    "    \n",
    "    \n",
    "    \n",
    "if __name__ == \"__main__\":\n",
    "    main()"
   ]
  },
  {
   "cell_type": "markdown",
   "metadata": {},
   "source": [
    "ellipse မှာ 0,0,360 ဆိုတာက ပထမ 0 သည် center က နေ spin ဖြစ်မည့် degree ဖြစ်ပီး နောက် 0 နဲ့ 90 သည် ellipse ထဲက ပေါင်းသွား သို့မဟုတ် နှုတ်သွားမဲ့ degree ဖြစ်ပါတယ်။"
   ]
  },
  {
   "cell_type": "code",
   "execution_count": null,
   "metadata": {},
   "outputs": [],
   "source": [
    "np.reshape()"
   ]
  },
  {
   "cell_type": "code",
   "execution_count": null,
   "metadata": {},
   "outputs": [],
   "source": [
    "cv.polylines မှာ points ဆိုရင် point တွေကို နေရာချထားပေးမှာဖြစ်သလို [points] ဆိုရင်တော့ point တွေကို ဆက်ဆွဲပေးမှာပါ။"
   ]
  },
  {
   "cell_type": "code",
   "execution_count": null,
   "metadata": {},
   "outputs": [],
   "source": []
  },
  {
   "cell_type": "code",
   "execution_count": null,
   "metadata": {},
   "outputs": [],
   "source": []
  },
  {
   "cell_type": "code",
   "execution_count": null,
   "metadata": {},
   "outputs": [],
   "source": []
  },
  {
   "cell_type": "code",
   "execution_count": null,
   "metadata": {},
   "outputs": [],
   "source": []
  },
  {
   "cell_type": "code",
   "execution_count": null,
   "metadata": {},
   "outputs": [],
   "source": []
  },
  {
   "cell_type": "code",
   "execution_count": null,
   "metadata": {},
   "outputs": [],
   "source": []
  },
  {
   "cell_type": "code",
   "execution_count": null,
   "metadata": {},
   "outputs": [],
   "source": []
  },
  {
   "cell_type": "code",
   "execution_count": null,
   "metadata": {},
   "outputs": [],
   "source": []
  },
  {
   "cell_type": "code",
   "execution_count": null,
   "metadata": {},
   "outputs": [],
   "source": []
  },
  {
   "cell_type": "code",
   "execution_count": null,
   "metadata": {},
   "outputs": [],
   "source": []
  },
  {
   "cell_type": "code",
   "execution_count": null,
   "metadata": {},
   "outputs": [],
   "source": []
  },
  {
   "cell_type": "code",
   "execution_count": null,
   "metadata": {},
   "outputs": [],
   "source": []
  },
  {
   "cell_type": "code",
   "execution_count": null,
   "metadata": {},
   "outputs": [],
   "source": []
  },
  {
   "cell_type": "code",
   "execution_count": null,
   "metadata": {},
   "outputs": [],
   "source": []
  }
 ],
 "metadata": {
  "kernelspec": {
   "display_name": "Python 3",
   "language": "python",
   "name": "python3"
  },
  "language_info": {
   "codemirror_mode": {
    "name": "ipython",
    "version": 3
   },
   "file_extension": ".py",
   "mimetype": "text/x-python",
   "name": "python",
   "nbconvert_exporter": "python",
   "pygments_lexer": "ipython3",
   "version": "3.7.4"
  }
 },
 "nbformat": 4,
 "nbformat_minor": 2
}
