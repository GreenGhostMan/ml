{
 "cells": [
  {
   "cell_type": "code",
   "execution_count": 11,
   "metadata": {},
   "outputs": [],
   "source": [
    "import cv2 as cv\n",
    "\n",
    "def main():\n",
    "    img = cv.imread('lena_color_512.tif')\n",
    "    \n",
    "    linear  = cv.resize(img,None,fx=1.5,fy=1,interpolation=cv.INTER_LINEAR)\n",
    "    cubic   = cv.resize(img,None,fx=1.5,fy=1,interpolation=cv.INTER_CUBIC)\n",
    "    area    = cv.resize(img,None,fx=0.5,fy=0.5,interpolation=cv.INTER_AREA)\n",
    "    nearest = cv.resize(img,None,fx=0.5,fy=0.5,interpolation=cv.INTER_NEAREST)\n",
    "    \n",
    "    cv.imshow('Lena',img)\n",
    "    cv.imshow('Linear',linear)\n",
    "    cv.imshow('cubic',cubic)\n",
    "    cv.imshow('area',area)\n",
    "    cv.imshow('nearest',nearest)\n",
    "    \n",
    "    if cv.waitKey(0)==27:\n",
    "        cv.destroyAllWindows()\n",
    "\n",
    "\n",
    "if __name__ == \"__main__\":\n",
    "    main()"
   ]
  },
  {
   "cell_type": "markdown",
   "metadata": {},
   "source": [
    "Interpolation\n",
    "INTER_LINEAR\n",
    "INTER_NEAREST\n",
    "INTER_CUBIC   #zooming\n",
    "INTER_AREA    #shrinking\n",
    "\n",
    "SCALING/RESIZING = shrinking(scaling down)/zooming(scaling up)"
   ]
  },
  {
   "cell_type": "code",
   "execution_count": null,
   "metadata": {},
   "outputs": [],
   "source": []
  },
  {
   "cell_type": "code",
   "execution_count": null,
   "metadata": {},
   "outputs": [],
   "source": []
  },
  {
   "cell_type": "code",
   "execution_count": null,
   "metadata": {},
   "outputs": [],
   "source": []
  }
 ],
 "metadata": {
  "kernelspec": {
   "display_name": "Python 3",
   "language": "python",
   "name": "python3"
  },
  "language_info": {
   "codemirror_mode": {
    "name": "ipython",
    "version": 3
   },
   "file_extension": ".py",
   "mimetype": "text/x-python",
   "name": "python",
   "nbconvert_exporter": "python",
   "pygments_lexer": "ipython3",
   "version": "3.7.4"
  }
 },
 "nbformat": 4,
 "nbformat_minor": 2
}
