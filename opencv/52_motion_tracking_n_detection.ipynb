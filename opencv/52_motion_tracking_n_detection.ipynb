{
 "cells": [
  {
   "cell_type": "code",
   "execution_count": null,
   "metadata": {},
   "outputs": [],
   "source": [
    "frame1\n",
    "frame2\n",
    "find distnce between 2 frame"
   ]
  },
  {
   "cell_type": "code",
   "execution_count": 1,
   "metadata": {},
   "outputs": [],
   "source": [
    "import cv2 as cv\n",
    "import numpy as np\n",
    "\n",
    "def main():\n",
    "    w = 800\n",
    "    h = 600\n",
    "    \n",
    "    cap = cv.VideoCapture(0)\n",
    "    \n",
    "    cap.set(3,w)\n",
    "    cap.set(4,h)\n",
    "    \n",
    "    #print(cap.get(3))\n",
    "    #print(cap.get(4))\n",
    "    \n",
    "    if cap.isOpened():\n",
    "        ret, frame = cap.read()\n",
    "    else:\n",
    "        ret = False\n",
    "    ret,frame1 = cap.read()\n",
    "    ret,frame2 = cap.read()\n",
    "        \n",
    "    while ret:\n",
    "        d = cv.absdiff(frame1,frame2)\n",
    "        \n",
    "        grey = cv.cvtColor(d,cv.COLOR_BGR2GRAY)\n",
    "        \n",
    "        blur = cv.GaussianBlur(grey, (5,5), 0)\n",
    "        \n",
    "        ret, th = cv.threshold(blur, 20, 255, cv.THRESH_BINARY)\n",
    "        \n",
    "        dilated = cv.dilate( th, np.ones((3,3),np.uint8), iterations = 3 )\n",
    "        \n",
    "        eroded = cv.erode( th, np.ones((3,3),np.uint8), iterations = 5 )\n",
    "        \n",
    "        #c,h = cv.findContours( dilated, cv.RETR_TREE, cv.CHAIN_APPROX_SIMPLE)\n",
    "        c,h = cv.findContours( eroded, cv.RETR_TREE, cv.CHAIN_APPROX_SIMPLE)\n",
    "        \n",
    "        cv.drawContours(frame1, c, -1, (0,0,255), 2)\n",
    "        \n",
    "        cv.imshow('Original', frame2)\n",
    "        cv.imshow('Intermediate', dilated)\n",
    "        \n",
    "        \n",
    "        if cv.waitKey(1)==27:\n",
    "            break\n",
    "            \n",
    "        frame1 = frame2\n",
    "        ret,frame2 = cap.read()\n",
    "        \n",
    "    cv.destroyAllWindows()\n",
    "    cap.release()\n",
    "        \n",
    "        \n",
    "        \n",
    "if __name__ == \"__main__\":\n",
    "    main()"
   ]
  },
  {
   "cell_type": "code",
   "execution_count": null,
   "metadata": {},
   "outputs": [],
   "source": []
  },
  {
   "cell_type": "code",
   "execution_count": null,
   "metadata": {},
   "outputs": [],
   "source": []
  },
  {
   "cell_type": "code",
   "execution_count": null,
   "metadata": {},
   "outputs": [],
   "source": []
  },
  {
   "cell_type": "code",
   "execution_count": null,
   "metadata": {},
   "outputs": [],
   "source": []
  },
  {
   "cell_type": "code",
   "execution_count": null,
   "metadata": {},
   "outputs": [],
   "source": []
  },
  {
   "cell_type": "code",
   "execution_count": null,
   "metadata": {},
   "outputs": [],
   "source": []
  },
  {
   "cell_type": "code",
   "execution_count": null,
   "metadata": {},
   "outputs": [],
   "source": []
  },
  {
   "cell_type": "code",
   "execution_count": null,
   "metadata": {},
   "outputs": [],
   "source": []
  },
  {
   "cell_type": "code",
   "execution_count": null,
   "metadata": {},
   "outputs": [],
   "source": []
  },
  {
   "cell_type": "code",
   "execution_count": null,
   "metadata": {},
   "outputs": [],
   "source": []
  },
  {
   "cell_type": "code",
   "execution_count": null,
   "metadata": {},
   "outputs": [],
   "source": []
  },
  {
   "cell_type": "code",
   "execution_count": null,
   "metadata": {},
   "outputs": [],
   "source": []
  },
  {
   "cell_type": "code",
   "execution_count": null,
   "metadata": {},
   "outputs": [],
   "source": []
  },
  {
   "cell_type": "code",
   "execution_count": null,
   "metadata": {},
   "outputs": [],
   "source": []
  },
  {
   "cell_type": "code",
   "execution_count": null,
   "metadata": {},
   "outputs": [],
   "source": []
  }
 ],
 "metadata": {
  "kernelspec": {
   "display_name": "Python 3",
   "language": "python",
   "name": "python3"
  },
  "language_info": {
   "codemirror_mode": {
    "name": "ipython",
    "version": 3
   },
   "file_extension": ".py",
   "mimetype": "text/x-python",
   "name": "python",
   "nbconvert_exporter": "python",
   "pygments_lexer": "ipython3",
   "version": "3.7.4"
  }
 },
 "nbformat": 4,
 "nbformat_minor": 2
}
