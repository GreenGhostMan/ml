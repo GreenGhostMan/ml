{
 "cells": [
  {
   "cell_type": "code",
   "execution_count": 4,
   "metadata": {},
   "outputs": [
    {
     "name": "stdout",
     "output_type": "stream",
     "text": [
      "Width640.0\n",
      "Height480.0\n"
     ]
    }
   ],
   "source": [
    "import cv2 as cv\n",
    "\n",
    "def main():\n",
    "    cap = cv.VideoCapture(0)\n",
    "    \n",
    "    print( \"Width\"+ str(cap.get(3)) )\n",
    "    print( \"Height\" + str(cap.get(4)) )\n",
    "    \n",
    "    cap.set(3,1024)\n",
    "    cap.set(4,768)\n",
    "    #frame rate is lower but resolutin is higher\n",
    "    \n",
    "    if cap.isOpened():\n",
    "        ret,frame = cap.read()\n",
    "    else:\n",
    "        ret = False\n",
    "    \n",
    "    while(ret):\n",
    "        ret,frame = cap.read()\n",
    "        \n",
    "        cv.imshow(\"Live\",frame)\n",
    "        \n",
    "        k = cv.waitKey(1)\n",
    "        if k == 27:\n",
    "            break\n",
    "    cv.destroyAllWindows()\n",
    "    cap.release()\n",
    "\n",
    "\n",
    "if __name__ == \"__main__\":\n",
    "    main()"
   ]
  },
  {
   "cell_type": "code",
   "execution_count": null,
   "metadata": {},
   "outputs": [],
   "source": []
  },
  {
   "cell_type": "code",
   "execution_count": null,
   "metadata": {},
   "outputs": [],
   "source": []
  },
  {
   "cell_type": "code",
   "execution_count": null,
   "metadata": {},
   "outputs": [],
   "source": []
  },
  {
   "cell_type": "code",
   "execution_count": null,
   "metadata": {},
   "outputs": [],
   "source": []
  }
 ],
 "metadata": {
  "kernelspec": {
   "display_name": "Python 3",
   "language": "python",
   "name": "python3"
  },
  "language_info": {
   "codemirror_mode": {
    "name": "ipython",
    "version": 3
   },
   "file_extension": ".py",
   "mimetype": "text/x-python",
   "name": "python",
   "nbconvert_exporter": "python",
   "pygments_lexer": "ipython3",
   "version": "3.7.4"
  }
 },
 "nbformat": 4,
 "nbformat_minor": 2
}
