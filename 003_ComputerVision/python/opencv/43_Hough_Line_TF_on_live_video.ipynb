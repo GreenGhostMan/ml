{
 "cells": [
  {
   "cell_type": "code",
   "execution_count": 1,
   "metadata": {},
   "outputs": [],
   "source": [
    "import cv2 as cv\n",
    "import numpy as np\n",
    "\n",
    "def main():\n",
    "    win_name = \"Preview\"\n",
    "    cv.namedWindow(win_name)\n",
    "    cap = cv.VideoCapture(0)\n",
    "    \n",
    "    if cap.isOpened():\n",
    "        ret, frame = cap.read()\n",
    "    else:\n",
    "        ret = False\n",
    "    \n",
    "    while ret:\n",
    "        ret, frame = cap.read()\n",
    "        grey = cv.cvtColor(frame,cv.COLOR_BGR2GRAY)\n",
    "        edges = cv.Canny(grey, 50, 250, apertureSize=5, L2gradient=True)\n",
    "        \n",
    "        lines = cv.HoughLines(edges, 1, np.pi/180, 200)\n",
    "        \n",
    "        if lines is not None:\n",
    "            for rho,theta in lines[0]:\n",
    "                a = np.cos(theta)\n",
    "                b = np.sin(theta)\n",
    "                x0= a*rho\n",
    "                y0= b*rho\n",
    "                # polar coord to cartesian\n",
    "                pts1 = ( int(x0 + 1000*(-b)), int(y0 + 1000*(a)) )\n",
    "                pts2 = ( int(x0 - 1000*(-b)), int(y0 - 1000*(a)) )\n",
    "                cv.line(frame, pts1, pts2, (0,255,0), 1)\n",
    "                \n",
    "        cv.imshow(win_name, frame)\n",
    "        \n",
    "        if cv.waitKey(1) == 27:\n",
    "            break\n",
    "    cv.destroyAllWindows()\n",
    "    cap.release()\n",
    "    \n",
    "if __name__ == \"__main__\":\n",
    "    main()"
   ]
  },
  {
   "cell_type": "code",
   "execution_count": null,
   "metadata": {},
   "outputs": [],
   "source": []
  },
  {
   "cell_type": "code",
   "execution_count": null,
   "metadata": {},
   "outputs": [],
   "source": []
  },
  {
   "cell_type": "code",
   "execution_count": null,
   "metadata": {},
   "outputs": [],
   "source": []
  },
  {
   "cell_type": "code",
   "execution_count": null,
   "metadata": {},
   "outputs": [],
   "source": []
  },
  {
   "cell_type": "code",
   "execution_count": null,
   "metadata": {},
   "outputs": [],
   "source": []
  },
  {
   "cell_type": "code",
   "execution_count": null,
   "metadata": {},
   "outputs": [],
   "source": []
  }
 ],
 "metadata": {
  "kernelspec": {
   "display_name": "Python 3",
   "language": "python",
   "name": "python3"
  },
  "language_info": {
   "codemirror_mode": {
    "name": "ipython",
    "version": 3
   },
   "file_extension": ".py",
   "mimetype": "text/x-python",
   "name": "python",
   "nbconvert_exporter": "python",
   "pygments_lexer": "ipython3",
   "version": "3.7.4"
  }
 },
 "nbformat": 4,
 "nbformat_minor": 2
}
