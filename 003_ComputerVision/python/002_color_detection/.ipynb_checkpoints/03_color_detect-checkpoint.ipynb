{
 "cells": [
  {
   "cell_type": "code",
   "execution_count": 1,
   "metadata": {},
   "outputs": [],
   "source": [
    "import cv2 as cv\n",
    "import numpy as np\n",
    "\n",
    "def main():\n",
    "    cap = cv.VideoCapture(0)\n",
    "    \n",
    "    while cap.isOpened():\n",
    "        ret,frame = cap.read()\n",
    "        \n",
    "        hsv = cv.cvtColor(frame,cv.COLOR_BGR2HSV)\n",
    "        \n",
    "        LOW = np.array([100,150,150]) # hsv\n",
    "        HIGH= np.array([140,255,255]) # hsv\n",
    "        \n",
    "        img_mask = cv.inRange(hsv,LOW,HIGH)\n",
    "        \n",
    "        res = cv.bitwise_and(frame,frame, mask=img_mask)\n",
    "        \n",
    "        cv.imshow('Live',frame)\n",
    "        cv.imshow('Mask',img_mask)\n",
    "        cv.imshow('Result', res)\n",
    "        \n",
    "        (con,_) = cv.findContours(img_mask.copy(),cv.RETR_EXTERNAL, cv.CHAIN_APPROX_SIMPLE)\n",
    "        clone = frame.copy()\n",
    "        \n",
    "        for frame_, contour_ in enumerate(con):\n",
    "            area = cv.contourArea(contour_)\n",
    "            if(area > 30):\n",
    "                x,y,w,h = cv.boundingRect(contour_)\n",
    "                cv.rectangle(clone, (x,y),(x+w,y+h), (0,0,255),2)\n",
    "                cv.putText(clone,\"red\",(x,y+15), cv.FONT_HERSHEY_SIMPLEX, 0.6,(0,0,255))\n",
    "        \n",
    "        k = cv.waitKey(33)\n",
    "        if k == 27:\n",
    "            break\n",
    "    cv.destroyAllWindows()\n",
    "    cap.release()\n",
    "\n",
    "\n",
    "if __name__ == \"__main__\":\n",
    "    main()"
   ]
  },
  {
   "cell_type": "code",
   "execution_count": null,
   "metadata": {},
   "outputs": [],
   "source": []
  },
  {
   "cell_type": "code",
   "execution_count": null,
   "metadata": {},
   "outputs": [],
   "source": []
  },
  {
   "cell_type": "code",
   "execution_count": null,
   "metadata": {},
   "outputs": [],
   "source": []
  },
  {
   "cell_type": "code",
   "execution_count": null,
   "metadata": {},
   "outputs": [],
   "source": []
  },
  {
   "cell_type": "code",
   "execution_count": null,
   "metadata": {},
   "outputs": [],
   "source": []
  },
  {
   "cell_type": "code",
   "execution_count": null,
   "metadata": {},
   "outputs": [],
   "source": []
  },
  {
   "cell_type": "code",
   "execution_count": null,
   "metadata": {},
   "outputs": [],
   "source": []
  },
  {
   "cell_type": "code",
   "execution_count": null,
   "metadata": {},
   "outputs": [],
   "source": []
  },
  {
   "cell_type": "code",
   "execution_count": null,
   "metadata": {},
   "outputs": [],
   "source": []
  },
  {
   "cell_type": "code",
   "execution_count": null,
   "metadata": {},
   "outputs": [],
   "source": []
  },
  {
   "cell_type": "code",
   "execution_count": null,
   "metadata": {},
   "outputs": [],
   "source": []
  },
  {
   "cell_type": "code",
   "execution_count": null,
   "metadata": {},
   "outputs": [],
   "source": []
  },
  {
   "cell_type": "code",
   "execution_count": null,
   "metadata": {},
   "outputs": [],
   "source": []
  },
  {
   "cell_type": "code",
   "execution_count": null,
   "metadata": {},
   "outputs": [],
   "source": []
  }
 ],
 "metadata": {
  "kernelspec": {
   "display_name": "Python 3",
   "language": "python",
   "name": "python3"
  },
  "language_info": {
   "codemirror_mode": {
    "name": "ipython",
    "version": 3
   },
   "file_extension": ".py",
   "mimetype": "text/x-python",
   "name": "python",
   "nbconvert_exporter": "python",
   "pygments_lexer": "ipython3",
   "version": "3.8.3"
  }
 },
 "nbformat": 4,
 "nbformat_minor": 2
}
