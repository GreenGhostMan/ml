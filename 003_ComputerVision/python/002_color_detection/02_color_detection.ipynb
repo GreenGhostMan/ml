{
 "cells": [
  {
   "cell_type": "code",
   "execution_count": 1,
   "metadata": {},
   "outputs": [],
   "source": [
    "import cv2 as cv\n",
    "import numpy as np\n",
    "\n",
    "def main():\n",
    "    img1 = cv.imread('test/01.jpg')\n",
    "    img2 = cv.imread('test/02.jpg')\n",
    "    img3 = cv.imread('test/03.jpg')\n",
    "    img4 = cv.imread('test/04.jpg')\n",
    "    img5 = cv.imread('test/05.jpg')\n",
    "    img6 = cv.imread('test/06.jpg')\n",
    "    img7 = cv.imread('test/07.jpg')\n",
    "    img8 = cv.imread('test/08.jpg')\n",
    "    img9 = cv.imread('test/09.jpg')\n",
    "    \n",
    "    images = [img1,img2,img3,img4,img5,img6,img7,img8,img9]\n",
    "    indexs = ['01','02','03','04','05','06','07','08','09']\n",
    "    texts = []\n",
    "    \n",
    "    for i in range(len(images)):  \n",
    "        (r,g,b) = cv.split(images[i])\n",
    "        r_mean = np.average(r) # np.average(img,axis=0)..\n",
    "        g_mean = np.average(g)\n",
    "        b_mean = np.average(b)\n",
    "    \n",
    "        if  ( g_mean > r_mean and g_mean > b_mean):\n",
    "            texts.append('green')\n",
    "        elif( r_mean > g_mean and r_mean > b_mean):\n",
    "            texts.append('red')\n",
    "        elif( b_mean > r_mean and b_mean > g_mean):\n",
    "            texts.append('blue')\n",
    "        else:\n",
    "            texts.append('unknown')\n",
    "            \n",
    "    while 1:\n",
    "        for i in range(len(images)):\n",
    "            cv.imshow(indexs[i],images[i])\n",
    "            cv.putText(images[i],texts[i],(100,100), cv.FONT_HERSHEY_SIMPLEX,1.2,(0,0,0))\n",
    "    \n",
    "        \n",
    "        k = cv.waitKey(10)\n",
    "        if k == 27:\n",
    "            break\n",
    "            \n",
    "\n",
    "    cv.destroyAllWindows()\n",
    "\n",
    "    \n",
    "    \n",
    "if __name__ == \"__main__\":\n",
    "    main()\n",
    "    \n"
   ]
  },
  {
   "cell_type": "code",
   "execution_count": null,
   "metadata": {},
   "outputs": [],
   "source": []
  },
  {
   "cell_type": "code",
   "execution_count": null,
   "metadata": {},
   "outputs": [],
   "source": []
  },
  {
   "cell_type": "code",
   "execution_count": null,
   "metadata": {},
   "outputs": [],
   "source": []
  },
  {
   "cell_type": "code",
   "execution_count": null,
   "metadata": {},
   "outputs": [],
   "source": []
  },
  {
   "cell_type": "code",
   "execution_count": null,
   "metadata": {},
   "outputs": [],
   "source": []
  },
  {
   "cell_type": "code",
   "execution_count": null,
   "metadata": {},
   "outputs": [],
   "source": []
  },
  {
   "cell_type": "code",
   "execution_count": null,
   "metadata": {},
   "outputs": [],
   "source": []
  },
  {
   "cell_type": "code",
   "execution_count": null,
   "metadata": {},
   "outputs": [],
   "source": []
  },
  {
   "cell_type": "code",
   "execution_count": null,
   "metadata": {},
   "outputs": [],
   "source": []
  },
  {
   "cell_type": "code",
   "execution_count": null,
   "metadata": {},
   "outputs": [],
   "source": []
  },
  {
   "cell_type": "code",
   "execution_count": null,
   "metadata": {},
   "outputs": [],
   "source": []
  },
  {
   "cell_type": "code",
   "execution_count": null,
   "metadata": {},
   "outputs": [],
   "source": []
  },
  {
   "cell_type": "code",
   "execution_count": null,
   "metadata": {},
   "outputs": [],
   "source": []
  },
  {
   "cell_type": "code",
   "execution_count": null,
   "metadata": {},
   "outputs": [],
   "source": []
  },
  {
   "cell_type": "code",
   "execution_count": null,
   "metadata": {},
   "outputs": [],
   "source": []
  },
  {
   "cell_type": "code",
   "execution_count": null,
   "metadata": {},
   "outputs": [],
   "source": []
  },
  {
   "cell_type": "code",
   "execution_count": null,
   "metadata": {},
   "outputs": [],
   "source": []
  },
  {
   "cell_type": "code",
   "execution_count": null,
   "metadata": {},
   "outputs": [],
   "source": []
  },
  {
   "cell_type": "code",
   "execution_count": null,
   "metadata": {},
   "outputs": [],
   "source": []
  },
  {
   "cell_type": "code",
   "execution_count": null,
   "metadata": {},
   "outputs": [],
   "source": []
  },
  {
   "cell_type": "code",
   "execution_count": null,
   "metadata": {},
   "outputs": [],
   "source": []
  },
  {
   "cell_type": "code",
   "execution_count": null,
   "metadata": {},
   "outputs": [],
   "source": []
  },
  {
   "cell_type": "code",
   "execution_count": null,
   "metadata": {},
   "outputs": [],
   "source": []
  },
  {
   "cell_type": "code",
   "execution_count": null,
   "metadata": {},
   "outputs": [],
   "source": []
  },
  {
   "cell_type": "code",
   "execution_count": null,
   "metadata": {},
   "outputs": [],
   "source": []
  },
  {
   "cell_type": "code",
   "execution_count": null,
   "metadata": {},
   "outputs": [],
   "source": []
  },
  {
   "cell_type": "code",
   "execution_count": null,
   "metadata": {},
   "outputs": [],
   "source": []
  },
  {
   "cell_type": "code",
   "execution_count": null,
   "metadata": {},
   "outputs": [],
   "source": []
  }
 ],
 "metadata": {
  "kernelspec": {
   "display_name": "Python 3",
   "language": "python",
   "name": "python3"
  },
  "language_info": {
   "codemirror_mode": {
    "name": "ipython",
    "version": 3
   },
   "file_extension": ".py",
   "mimetype": "text/x-python",
   "name": "python",
   "nbconvert_exporter": "python",
   "pygments_lexer": "ipython3",
   "version": "3.8.3"
  }
 },
 "nbformat": 4,
 "nbformat_minor": 2
}
